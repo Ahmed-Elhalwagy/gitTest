{
 "cells": [
  {
   "cell_type": "code",
   "execution_count": 1,
   "id": "4834a5ea",
   "metadata": {},
   "outputs": [
    {
     "name": "stdout",
     "output_type": "stream",
     "text": [
      "6 > 5\n"
     ]
    }
   ],
   "source": [
    "x = 5\n",
    "y = 6\n",
    "\n",
    "if(x > y):\n",
    "    print(f'{x} > {y}')\n",
    "else:\n",
    "    print(f'{y} > {x}')"
   ]
  },
  {
   "cell_type": "code",
   "execution_count": null,
   "id": "dd7d6e8d",
   "metadata": {},
   "outputs": [],
   "source": []
  }
 ],
 "metadata": {
  "kernelspec": {
   "display_name": "Python 3",
   "language": "python",
   "name": "python3"
  },
  "language_info": {
   "codemirror_mode": {
    "name": "ipython",
    "version": 3
   },
   "file_extension": ".py",
   "mimetype": "text/x-python",
   "name": "python",
   "nbconvert_exporter": "python",
   "pygments_lexer": "ipython3",
   "version": "3.8.8"
  }
 },
 "nbformat": 4,
 "nbformat_minor": 5
}
